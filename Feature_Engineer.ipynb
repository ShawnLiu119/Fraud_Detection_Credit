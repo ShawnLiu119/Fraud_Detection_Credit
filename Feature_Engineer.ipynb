{
  "nbformat": 4,
  "nbformat_minor": 0,
  "metadata": {
    "colab": {
      "provenance": [],
      "authorship_tag": "ABX9TyPDU6sKgFbMsc4KFaXn+sc+",
      "include_colab_link": true
    },
    "kernelspec": {
      "name": "python3",
      "display_name": "Python 3"
    },
    "language_info": {
      "name": "python"
    }
  },
  "cells": [
    {
      "cell_type": "markdown",
      "metadata": {
        "id": "view-in-github",
        "colab_type": "text"
      },
      "source": [
        "<a href=\"https://colab.research.google.com/github/ShawnLiu119/Fraud_Detection_Credit/blob/main/Feature_Engineer.ipynb\" target=\"_parent\"><img src=\"https://colab.research.google.com/assets/colab-badge.svg\" alt=\"Open In Colab\"/></a>"
      ]
    },
    {
      "cell_type": "markdown",
      "source": [
        "# **Feature Engineer - Fraud Transaction**\n",
        "\n"
      ],
      "metadata": {
        "id": "vhOkpIrlhFC1"
      }
    },
    {
      "cell_type": "markdown",
      "source": [
        "#### Why we need engineer the features? <br>\n",
        "\n",
        "Machine learning algorithms typically require numerical and ordered features. Numerical means that the type of the variable must be an integer or a real number. Ordered means that the order of the values of a variable is meaningful.\n",
        "\n",
        "In this dataset, the only numerical and ordered features are the transaction amount and the fraud label. The date is a Panda timestamp, and therefore not numerical. The identifiers for the transactions, customers, and terminals are numerical but not ordered: it would not make sense to assume for example that the terminal with ID 3548 is 'bigger' or 'larger' than the terminal with ID 1983. Rather, these identifiers represent distinct 'entities', which are referred to as categorical features."
      ],
      "metadata": {
        "id": "FsVs-NYtiPbq"
      }
    },
    {
      "cell_type": "markdown",
      "source": [
        "### Feature Transformation that are used relevant for payment card farud detection\n",
        "\n",
        "![image.png](data:image/png;base64,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)"
      ],
      "metadata": {
        "id": "vw4IfDODilFa"
      }
    },
    {
      "cell_type": "markdown",
      "source": [
        "1. The first type of transformation involves the date/time variable, and consists in creating binary features that characterize potentially relevant periods. We will create two such features. **The first one will characterize whether a transaction occurs during a weekday or during the weekend. The second will characterize whether a transaction occurs during the day or the night.** These features can be useful since it has been observed in real-world datasets that fraudulent patterns differ between weekdays and weekends, and between the day and night."
      ],
      "metadata": {
        "id": "sjA2gUThivgV"
      }
    },
    {
      "cell_type": "markdown",
      "source": [
        "2. The second type of transformation involves the **customer ID** and consists in creating features that characterize the **customer spending behaviors**. We will follow the **RFM (Recency, Frequency, Monetary value)** framework proposed in {cite}VANVLASSELAER201538, and keep track of the average spending amount and number of transactions for each customer and for **three window sizes**. This will lead to the creation of six new features."
      ],
      "metadata": {
        "id": "cvcCoGhFivZL"
      }
    },
    {
      "cell_type": "markdown",
      "source": [
        "3. The third type of transformation involves the **terminal ID** and consists in creating new features that characterize the **'risk' associated with the terminal. The risk will be defined as the average number of frauds that were observed on the terminal** for **three window sizes**. This will lead to the creation of three new features."
      ],
      "metadata": {
        "id": "YOWH_-tNivRZ"
      }
    },
    {
      "cell_type": "code",
      "execution_count": null,
      "metadata": {
        "id": "Z-k8qqYjhBrQ"
      },
      "outputs": [],
      "source": [
        "DIR_INPUT='./simulated-data-raw/data/'\n",
        "\n",
        "BEGIN_DATE = \"2018-04-01\"\n",
        "END_DATE = \"2018-09-30\"\n",
        "\n",
        "print(\"Load  files\")\n",
        "%time transactions_df=read_from_files(DIR_INPUT, BEGIN_DATE, END_DATE)\n",
        "print(\"{0} transactions loaded, containing {1} fraudulent transactions\".format(len(transactions_df),transactions_df.TX_FRAUD.sum()))"
      ]
    }
  ]
}